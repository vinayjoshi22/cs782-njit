{
 "cells": [
  {
   "cell_type": "code",
   "execution_count": 1,
   "metadata": {},
   "outputs": [
    {
     "name": "stderr",
     "output_type": "stream",
     "text": [
      "Using TensorFlow backend.\n"
     ]
    }
   ],
   "source": [
    "import keras\n",
    "from keras.models import Sequential\n",
    "from keras.layers.core import Dense, Dropout, Activation, Flatten\n",
    "from keras.layers import Conv2D, MaxPooling2D\n",
    "from keras.optimizers import SGD, Adam, RMSprop\n",
    "from keras.utils import np_utils\n",
    "\n",
    "import numpy as np\n",
    "from sklearn.utils import shuffle"
   ]
  },
  {
   "cell_type": "code",
   "execution_count": 2,
   "metadata": {
    "collapsed": true
   },
   "outputs": [],
   "source": [
    "import pickle\n",
    "\n",
    "training_file = \"traffic-sign-data/train.p\"\n",
    "testing_file = \"traffic-sign-data/test.p\"\n",
    "\n",
    "with open(training_file, mode='rb') as f:\n",
    "    train = pickle.load(f)\n",
    "with open(testing_file, mode='rb') as f:\n",
    "    test = pickle.load(f)\n",
    "    \n",
    "X_train, y_train = train['features'], train['labels']\n",
    "X_test, y_test = test['features'], test['labels']\n",
    "\n",
    "assert(X_train.shape[0] == y_train.shape[0]), \"The number of images is not equal to the number of labels.\"\n",
    "assert(X_train.shape[1:] == (32,32,3)), \"The dimensions of the images are not 32 x 32 x 3.\""
   ]
  },
  {
   "cell_type": "code",
   "execution_count": 3,
   "metadata": {},
   "outputs": [
    {
     "name": "stdout",
     "output_type": "stream",
     "text": [
      "Min: 0\n",
      "Max: 0\n",
      "Mean: 0\n",
      "X_train:  31367\n",
      "y_train:  31367\n",
      "X_val:  7842\n",
      "y_val:  7842\n"
     ]
    }
   ],
   "source": [
    "X_train, y_train = shuffle(X_train, y_train, random_state=42)\n",
    "X_test, y_test = shuffle(X_test, y_test, random_state=42)\n",
    "X_train_original = X_train\n",
    "X_test_original = X_test\n",
    "\n",
    "X_train_standardised = (X_train - X_train.mean()) / np.std(X_train)\n",
    "X_test_standardised = (X_test - X_test.mean()) / np.std(X_test)\n",
    "X_train_normalised = (X_train - X_train.mean()) / (np.max(X_train) - np.min(X_train))\n",
    "X_test_normalised = (X_test - X_test.mean()) / (np.max(X_test) - np.min(X_test))\n",
    "\n",
    "print(\"Min: %d\" % np.min(X_train_normalised))\n",
    "print(\"Max: %d\" % np.max(X_train_normalised))\n",
    "print(\"Mean: %d\" % np.mean(X_train_normalised))\n",
    "\n",
    "y_train = np_utils.to_categorical(y_train,num_classes=43)\n",
    "y_test = np_utils.to_categorical(y_test, num_classes=43)\n",
    "\n",
    "# Normalised input\n",
    "X_train = X_train_normalised\n",
    "X_test = X_test_normalised\n",
    "\n",
    "batch_size = 100\n",
    "nb_epoch = 100\n",
    "\n",
    "from sklearn.model_selection import train_test_split\n",
    "\n",
    "# TODO: Split some of the training data into a validation dataset.\n",
    "X_train, X_val, y_train, y_val = train_test_split(\\\n",
    "    X_train, y_train, test_size=0.2, random_state=42)\n",
    "\n",
    "print(\"X_train: \", len(X_train))\n",
    "print(\"y_train: \", len(y_train))\n",
    "print(\"X_val: \", len(X_val))\n",
    "print(\"y_val: \", len(y_val))\n"
   ]
  },
  {
   "cell_type": "code",
   "execution_count": 4,
   "metadata": {},
   "outputs": [
    {
     "name": "stdout",
     "output_type": "stream",
     "text": [
      "_________________________________________________________________\n",
      "Layer (type)                 Output Shape              Param #   \n",
      "=================================================================\n",
      "dense_1 (Dense)              (None, 43)                132139    \n",
      "=================================================================\n",
      "Total params: 132,139\n",
      "Trainable params: 132,139\n",
      "Non-trainable params: 0\n",
      "_________________________________________________________________\n"
     ]
    }
   ],
   "source": [
    "model = Sequential()\n",
    "# model.add(Dense(512,activation=\"relu\", input_shape=(32*32*3,)))\n",
    "# model.add(Dense(512,activation=\"relu\"))\n",
    "# model.add(Dense(256,activation=\"relu\"))\n",
    "model.add(Dense(43,activation=\"softmax\",input_shape=(32*32*3,)))\n",
    "\n",
    "model.summary()"
   ]
  },
  {
   "cell_type": "code",
   "execution_count": 5,
   "metadata": {
    "collapsed": true
   },
   "outputs": [],
   "source": [
    "model.compile(loss=keras.losses.categorical_crossentropy,\n",
    "             optimizer=keras.optimizers.Adam(lr=0.001),\n",
    "             metrics=[\"accuracy\"])"
   ]
  },
  {
   "cell_type": "code",
   "execution_count": 6,
   "metadata": {},
   "outputs": [
    {
     "name": "stdout",
     "output_type": "stream",
     "text": [
      "Epoch 1/10\n",
      "31367/31367 [==============================] - 4s 121us/step - loss: 1.8525 - acc: 0.5497\n",
      "Epoch 2/10\n",
      "31367/31367 [==============================] - 4s 122us/step - loss: 1.0464 - acc: 0.7716\n",
      "Epoch 3/10\n",
      "31367/31367 [==============================] - 4s 119us/step - loss: 0.8062 - acc: 0.8313\n",
      "Epoch 4/10\n",
      "31367/31367 [==============================] - 4s 118us/step - loss: 0.6763 - acc: 0.8613\n",
      "Epoch 5/10\n",
      "31367/31367 [==============================] - 4s 121us/step - loss: 0.5860 - acc: 0.8832\n",
      "Epoch 6/10\n",
      "31367/31367 [==============================] - 4s 120us/step - loss: 0.5285 - acc: 0.8938\n",
      "Epoch 7/10\n",
      "31367/31367 [==============================] - 4s 120us/step - loss: 0.4802 - acc: 0.9022\n",
      "Epoch 8/10\n",
      "31367/31367 [==============================] - 4s 124us/step - loss: 0.4410 - acc: 0.9112\n",
      "Epoch 9/10\n",
      "31367/31367 [==============================] - 4s 123us/step - loss: 0.4077 - acc: 0.9202\n",
      "Epoch 10/10\n",
      "31367/31367 [==============================] - 4s 120us/step - loss: 0.3829 - acc: 0.9232\n"
     ]
    },
    {
     "data": {
      "text/plain": [
       "<keras.callbacks.History at 0x7f95804f07f0>"
      ]
     },
     "execution_count": 6,
     "metadata": {},
     "output_type": "execute_result"
    }
   ],
   "source": [
    "model.fit(X_train.reshape(X_train.shape[0],X_train.shape[1]*X_train.shape[2]*X_train.shape[3]),\n",
    "          y_train,batch_size=batch_size,epochs=10)"
   ]
  },
  {
   "cell_type": "code",
   "execution_count": 7,
   "metadata": {},
   "outputs": [
    {
     "name": "stdout",
     "output_type": "stream",
     "text": [
      "7842/7842 [==============================] - 1s 68us/step\n"
     ]
    },
    {
     "data": {
      "text/plain": [
       "[0.41296085483472705, 0.91366998416919609]"
      ]
     },
     "execution_count": 7,
     "metadata": {},
     "output_type": "execute_result"
    }
   ],
   "source": [
    "model.evaluate(X_val.reshape(X_val.shape[0],X_val.shape[1]*X_val.shape[2]*X_val.shape[3]),y_val,batch_size=batch_size)"
   ]
  },
  {
   "cell_type": "code",
   "execution_count": 8,
   "metadata": {},
   "outputs": [
    {
     "name": "stdout",
     "output_type": "stream",
     "text": [
      "12630/12630 [==============================] - 1s 61us/step\n"
     ]
    },
    {
     "data": {
      "text/plain": [
       "[0.78116676921610406, 0.82288202362596663]"
      ]
     },
     "execution_count": 8,
     "metadata": {},
     "output_type": "execute_result"
    }
   ],
   "source": [
    "model.evaluate(X_test.reshape(X_test.shape[0],X_test.shape[1]*X_test.shape[2]*X_test.shape[3]),y_test,batch_size=batch_size)"
   ]
  },
  {
   "cell_type": "code",
   "execution_count": 23,
   "metadata": {
    "collapsed": true
   },
   "outputs": [],
   "source": [
    "%matplotlib inline\n",
    "import matplotlib.pyplot as plt\n",
    "from matplotlib.ticker import MaxNLocator\n"
   ]
  },
  {
   "cell_type": "code",
   "execution_count": 31,
   "metadata": {},
   "outputs": [
    {
     "data": {
      "text/plain": [
       "<matplotlib.figure.Figure at 0x7f947aff2a20>"
      ]
     },
     "metadata": {},
     "output_type": "display_data"
    },
    {
     "data": {
      "image/png": "[encoded data removed]",
      "text/plain": [
       "<matplotlib.figure.Figure at 0x7f947aff23c8>"
      ]
     },
     "metadata": {},
     "output_type": "display_data"
    }
   ],
   "source": [
    "font = {'family' : 'sans-serif',\n",
    "        'weight' : 'normal',\n",
    "        'size'   : 15}\n",
    "\n",
    "train_acc1 = np.array([92.32,96.14,94.88])\n",
    "test_acc1 = np.array([82.28,83.58,80.61])\n",
    "num_of_hidden_layers = np.array([1,2,3])\n",
    "plt.rc('font', **font)\n",
    "plt.figure()\n",
    "_,ax = plt.subplots()\n",
    "ax.set_title('Hyper paramter search ANN')\n",
    "ax.set_xlabel(\"Number of hidden layers\")\n",
    "ax.set_ylabel('Accuracy')\n",
    "plt.plot(num_of_hidden_layers,train_acc1,'o-',label=\"Train accuracy\")\n",
    "plt.plot(num_of_hidden_layers,test_acc1,'*-',label=\"Test accuracy\")\n",
    "ax.legend(loc=\"center right\")\n",
    "plt.grid(True)\n",
    "fig = plt.gcf()\n",
    "ax.xaxis.set_major_locator(MaxNLocator(integer=True))\n",
    "# fig.set_size_inches(15, 10, forward=True)"
   ]
  },
  {
   "cell_type": "code",
   "execution_count": 33,
   "metadata": {},
   "outputs": [
    {
     "data": {
      "text/plain": [
       "<matplotlib.figure.Figure at 0x7f946821a940>"
      ]
     },
     "metadata": {},
     "output_type": "display_data"
    },
    {
     "data": {
      "image/png": "[encoded data removed]",
      "text/plain": [
       "<matplotlib.figure.Figure at 0x7f946821a908>"
      ]
     },
     "metadata": {},
     "output_type": "display_data"
    }
   ],
   "source": [
    "font = {'family' : 'sans-serif',\n",
    "        'weight' : 'normal',\n",
    "        'size'   : 15}\n",
    "\n",
    "train_acc2 = np.array([96.14,95.98])\n",
    "test_acc2 = np.array([83.58,83.11])\n",
    "num_of_hidden_layers = np.array([512,852])\n",
    "plt.rc('font', **font)\n",
    "plt.figure()\n",
    "_,ax = plt.subplots()\n",
    "ax.set_title('Hyper paramter search ANN')\n",
    "ax.set_xlabel(\"Number of hidden units\")\n",
    "ax.set_ylabel('Accuracy')\n",
    "plt.plot(num_of_hidden_layers,train_acc2,'o-',label=\"Train accuracy\")\n",
    "plt.plot(num_of_hidden_layers,test_acc2,'*-',label=\"Test accuracy\")\n",
    "ax.legend(loc=\"center right\")\n",
    "plt.grid(True)\n",
    "fig = plt.gcf()\n",
    "ax.xaxis.set_major_locator(MaxNLocator(integer=True))\n",
    "# fig.set_size_inches(15, 10, forward=True)"
   ]
  },
  {
   "cell_type": "code",
   "execution_count": null,
   "metadata": {
    "collapsed": true
   },
   "outputs": [],
   "source": []
  }
 ],
 "metadata": {
  "kernelspec": {
   "display_name": "Python 3",
   "language": "python",
   "name": "python3"
  },
  "language_info": {
   "codemirror_mode": {
    "name": "ipython",
    "version": 3
   },
   "file_extension": ".py",
   "mimetype": "text/x-python",
   "name": "python",
   "nbconvert_exporter": "python",
   "pygments_lexer": "ipython3",
   "version": "3.6.2"
  }
 },
 "nbformat": 4,
 "nbformat_minor": 2
}
