{
 "cells": [
  {
   "cell_type": "code",
   "execution_count": 1,
   "metadata": {},
   "outputs": [
    {
     "name": "stderr",
     "output_type": "stream",
     "text": [
      "Using TensorFlow backend.\n"
     ]
    }
   ],
   "source": [
    "import keras\n",
    "from keras.models import Sequential\n",
    "from keras.layers.core import Dense, Dropout, Activation, Flatten\n",
    "from keras.layers import Conv2D, MaxPooling2D\n",
    "from keras.optimizers import SGD, Adam, RMSprop\n",
    "from keras.utils import np_utils\n",
    "\n",
    "import numpy as np\n",
    "from sklearn.utils import shuffle"
   ]
  },
  {
   "cell_type": "code",
   "execution_count": 2,
   "metadata": {
    "collapsed": true
   },
   "outputs": [],
   "source": [
    "import pickle\n",
    "\n",
    "training_file = \"traffic-sign-data/train.p\"\n",
    "testing_file = \"traffic-sign-data/test.p\"\n",
    "\n",
    "with open(training_file, mode='rb') as f:\n",
    "    train = pickle.load(f)\n",
    "with open(testing_file, mode='rb') as f:\n",
    "    test = pickle.load(f)\n",
    "    \n",
    "X_train, y_train = train['features'], train['labels']\n",
    "X_test, y_test = test['features'], test['labels']\n",
    "\n",
    "# STOP: Do not change the tests below. Your implementation should pass these tests. \n",
    "assert(X_train.shape[0] == y_train.shape[0]), \"The number of images is not equal to the number of labels.\"\n",
    "assert(X_train.shape[1:] == (32,32,3)), \"The dimensions of the images are not 32 x 32 x 3.\""
   ]
  },
  {
   "cell_type": "code",
   "execution_count": 3,
   "metadata": {},
   "outputs": [
    {
     "name": "stdout",
     "output_type": "stream",
     "text": [
      "Min: 0\n",
      "Max: 0\n",
      "Mean: 0\n",
      "X_train:  31367\n",
      "y_train:  31367\n",
      "X_val:  7842\n",
      "y_val:  7842\n"
     ]
    }
   ],
   "source": [
    "X_train, y_train = shuffle(X_train, y_train, random_state=42)\n",
    "X_test, y_test = shuffle(X_test, y_test, random_state=42)\n",
    "X_train_original = X_train\n",
    "X_test_original = X_test\n",
    "\n",
    "# TODO: Implement data normalization here.\n",
    "\n",
    "X_train_standardised = (X_train - X_train.mean()) / np.std(X_train)\n",
    "X_test_standardised = (X_test - X_test.mean()) / np.std(X_test)\n",
    "X_train_normalised = (X_train - X_train.mean()) / (np.max(X_train) - np.min(X_train))\n",
    "X_test_normalised = (X_test - X_test.mean()) / (np.max(X_test) - np.min(X_test))\n",
    "\n",
    "print(\"Min: %d\" % np.min(X_train_normalised))\n",
    "print(\"Max: %d\" % np.max(X_train_normalised))\n",
    "print(\"Mean: %d\" % np.mean(X_train_normalised))\n",
    "\n",
    "y_train = np_utils.to_categorical(y_train,num_classes=43)\n",
    "y_test = np_utils.to_categorical(y_test, num_classes=43)\n",
    " \n",
    "\n",
    "# Normalised input\n",
    "X_train = X_train_normalised\n",
    "X_test = X_test_normalised\n",
    "\n",
    "batch_size = 100\n",
    "nb_epoch = 100\n",
    "\n",
    "from sklearn.model_selection import train_test_split\n",
    "\n",
    "# TODO: Split some of the training data into a validation dataset.\n",
    "X_train, X_val, y_train, y_val = train_test_split(\\\n",
    "    X_train, y_train, test_size=0.2, random_state=42)\n",
    "\n",
    "print(\"X_train: \", len(X_train))\n",
    "print(\"y_train: \", len(y_train))\n",
    "print(\"X_val: \", len(X_val))\n",
    "print(\"y_val: \", len(y_val))\n"
   ]
  },
  {
   "cell_type": "code",
   "execution_count": 4,
   "metadata": {},
   "outputs": [
    {
     "name": "stdout",
     "output_type": "stream",
     "text": [
      "_________________________________________________________________\n",
      "Layer (type)                 Output Shape              Param #   \n",
      "=================================================================\n",
      "conv2d_1 (Conv2D)            (None, 26, 26, 32)        4736      \n",
      "_________________________________________________________________\n",
      "conv2d_2 (Conv2D)            (None, 22, 22, 128)       102528    \n",
      "_________________________________________________________________\n",
      "conv2d_3 (Conv2D)            (None, 20, 20, 128)       147584    \n",
      "_________________________________________________________________\n",
      "flatten_1 (Flatten)          (None, 51200)             0         \n",
      "_________________________________________________________________\n",
      "dense_1 (Dense)              (None, 1024)              52429824  \n",
      "_________________________________________________________________\n",
      "dense_2 (Dense)              (None, 43)                44075     \n",
      "=================================================================\n",
      "Total params: 52,728,747\n",
      "Trainable params: 52,728,747\n",
      "Non-trainable params: 0\n",
      "_________________________________________________________________\n"
     ]
    }
   ],
   "source": [
    "model = Sequential()\n",
    "\n",
    "model.add(Conv2D(32,\n",
    "                (7,7),\n",
    "                 activation=\"relu\",\n",
    "                 input_shape=(32,32,3)\n",
    "                ))\n",
    "# model.add(Dropout(0.2))\n",
    "model.add(Conv2D(128,\n",
    "                (5,5),\n",
    "                 activation=\"relu\"\n",
    "                ))\n",
    "# model.add(Dropout(0.3))\n",
    "model.add(Conv2D(128,\n",
    "                (3,3),\n",
    "                 activation=\"relu\"\n",
    "                ))\n",
    "# model.add(Dropout(0.5))\n",
    "model.add(Flatten())\n",
    "model.add(Dense(units=1024,activation=\"relu\"))\n",
    "# model.add(Dense(units=128,activation=\"relu\"))\n",
    "model.add(Dense(units=43,activation=\"softmax\"))\n",
    "\n",
    "model.summary()"
   ]
  },
  {
   "cell_type": "code",
   "execution_count": 5,
   "metadata": {
    "collapsed": true
   },
   "outputs": [],
   "source": [
    "model.compile(loss=keras.losses.categorical_crossentropy,\n",
    "             optimizer=keras.optimizers.Adam(lr=0.001),\n",
    "             metrics=[\"accuracy\"])"
   ]
  },
  {
   "cell_type": "code",
   "execution_count": 6,
   "metadata": {},
   "outputs": [
    {
     "name": "stdout",
     "output_type": "stream",
     "text": [
      "Epoch 1/10\n",
      "31367/31367 [==============================] - 438s 14ms/step - loss: 0.4324 - acc: 0.8826\n",
      "Epoch 2/10\n",
      "31367/31367 [==============================] - 448s 14ms/step - loss: 0.0554 - acc: 0.9848\n",
      "Epoch 3/10\n",
      "31367/31367 [==============================] - 608s 19ms/step - loss: 0.0317 - acc: 0.9916\n",
      "Epoch 4/10\n",
      "31367/31367 [==============================] - 690s 22ms/step - loss: 0.0351 - acc: 0.9898\n",
      "Epoch 5/10\n",
      "31367/31367 [==============================] - 915s 29ms/step - loss: 0.0377 - acc: 0.9905\n",
      "Epoch 6/10\n",
      "31367/31367 [==============================] - 432s 14ms/step - loss: 0.0323 - acc: 0.9920\n",
      "Epoch 7/10\n",
      "31367/31367 [==============================] - 445s 14ms/step - loss: 0.0391 - acc: 0.9907\n",
      "Epoch 8/10\n",
      "31367/31367 [==============================] - 456s 15ms/step - loss: 0.0136 - acc: 0.9966\n",
      "Epoch 9/10\n",
      "31367/31367 [==============================] - 448s 14ms/step - loss: 0.0249 - acc: 0.9940\n",
      "Epoch 10/10\n",
      "31367/31367 [==============================] - 445s 14ms/step - loss: 0.0461 - acc: 0.9909\n"
     ]
    },
    {
     "data": {
      "text/plain": [
       "<keras.callbacks.History at 0x7f18d3241da0>"
      ]
     },
     "execution_count": 6,
     "metadata": {},
     "output_type": "execute_result"
    }
   ],
   "source": [
    "model.fit(X_train,y_train,batch_size=batch_size,epochs=10)"
   ]
  },
  {
   "cell_type": "code",
   "execution_count": 7,
   "metadata": {},
   "outputs": [
    {
     "name": "stdout",
     "output_type": "stream",
     "text": [
      "7842/7842 [==============================] - 32s 4ms/step\n"
     ]
    },
    {
     "data": {
      "text/plain": [
       "[0.10178471395665346, 0.98138230906795165]"
      ]
     },
     "execution_count": 7,
     "metadata": {},
     "output_type": "execute_result"
    }
   ],
   "source": [
    "model.evaluate(X_val,y_val,batch_size=batch_size)"
   ]
  },
  {
   "cell_type": "code",
   "execution_count": 8,
   "metadata": {},
   "outputs": [
    {
     "name": "stdout",
     "output_type": "stream",
     "text": [
      "12630/12630 [==============================] - 51s 4ms/step\n"
     ]
    },
    {
     "data": {
      "text/plain": [
       "[0.55410202738909331, 0.93697545812513183]"
      ]
     },
     "execution_count": 8,
     "metadata": {},
     "output_type": "execute_result"
    }
   ],
   "source": [
    "model.evaluate(X_test,y_test,batch_size=batch_size)"
   ]
  },
  {
   "cell_type": "code",
   "execution_count": 46,
   "metadata": {
    "collapsed": true
   },
   "outputs": [],
   "source": [
    "X_train_ori = train['features']\n",
    "X_test_ori  = test['features']"
   ]
  },
  {
   "cell_type": "code",
   "execution_count": 62,
   "metadata": {},
   "outputs": [
    {
     "name": "stdout",
     "output_type": "stream",
     "text": [
      "Predicted label is 2  Actual label is  2\n"
     ]
    },
    {
     "data": {
      "text/plain": [
       "<matplotlib.image.AxesImage at 0x7f16f6965cf8>"
      ]
     },
     "execution_count": 62,
     "metadata": {},
     "output_type": "execute_result"
    },
    {
     "data": {
      "image/png": "[encoded data removed]",
      "text/plain": [
       "<matplotlib.figure.Figure at 0x7f17bc08c208>"
      ]
     },
     "metadata": {},
     "output_type": "display_data"
    }
   ],
   "source": [
    "x = 0\n",
    "pred = np.argmax((model.predict(X_test[x:x+1])))\n",
    "print(\"Predicted label is \"+str(pred),\" Actual label is \",str(np.argmax(y_test[x])))\n",
    "plt.imshow(X_test_ori[x])"
   ]
  },
  {
   "cell_type": "code",
   "execution_count": 64,
   "metadata": {},
   "outputs": [
    {
     "name": "stdout",
     "output_type": "stream",
     "text": [
      "Predicted label is 4  Actual label is  4\n"
     ]
    },
    {
     "data": {
      "text/plain": [
       "<matplotlib.image.AxesImage at 0x7f16f6882048>"
      ]
     },
     "execution_count": 64,
     "metadata": {},
     "output_type": "execute_result"
    },
    {
     "data": {
      "image/png": "[encoded data removed]",
      "text/plain": [
       "<matplotlib.figure.Figure at 0x7f16f6895048>"
      ]
     },
     "metadata": {},
     "output_type": "display_data"
    }
   ],
   "source": [
    "x = 5623\n",
    "pred = np.argmax((model.predict(X_test[x:x+1])))\n",
    "print(\"Predicted label is \"+str(pred),\" Actual label is \",str(np.argmax(y_test[x])))\n",
    "plt.imshow(X_test_ori[x])"
   ]
  },
  {
   "cell_type": "code",
   "execution_count": 65,
   "metadata": {},
   "outputs": [
    {
     "name": "stdout",
     "output_type": "stream",
     "text": [
      "Predicted label is 37  Actual label is  37\n"
     ]
    },
    {
     "data": {
      "text/plain": [
       "<matplotlib.image.AxesImage at 0x7f16f67937f0>"
      ]
     },
     "execution_count": 65,
     "metadata": {},
     "output_type": "execute_result"
    },
    {
     "data": {
      "image/png": "[encoded data removed]",
      "text/plain": [
       "<matplotlib.figure.Figure at 0x7f16f68220f0>"
      ]
     },
     "metadata": {},
     "output_type": "display_data"
    }
   ],
   "source": [
    "x = 7846\n",
    "pred = np.argmax((model.predict(X_test[x:x+1])))\n",
    "print(\"Predicted label is \"+str(pred),\" Actual label is \",str(np.argmax(y_test[x])))\n",
    "plt.imshow(X_test_ori[x])"
   ]
  },
  {
   "cell_type": "markdown",
   "metadata": {},
   "source": [
    "End of code"
   ]
  },
  {
   "cell_type": "code",
   "execution_count": 25,
   "metadata": {
    "collapsed": true
   },
   "outputs": [],
   "source": [
    "# %matplotlib inline\n",
    "# import matplotlib.pyplot as plt\n",
    "# from matplotlib.ticker import MaxNLocator\n"
   ]
  },
  {
   "cell_type": "code",
   "execution_count": 26,
   "metadata": {},
   "outputs": [],
   "source": [
    "# font = {'family' : 'sans-serif',\n",
    "#         'weight' : 'normal',\n",
    "#         'size'   : 15}\n",
    "\n",
    "# train_acc1 = np.array([99.29,99.77,99.73])\n",
    "# test_acc1 = np.array([90.48,93.33,94.11])\n",
    "# num_of_hidden_layers = np.array([1,2,3])\n",
    "# plt.rc('font', **font)\n",
    "# plt.figure()\n",
    "# _,ax = plt.subplots()\n",
    "# ax.set_title('Hyper paramter search CNN')\n",
    "# ax.set_xlabel(\"Number of CONV layers\")\n",
    "# ax.set_ylabel('Accuracy')\n",
    "# plt.plot(num_of_hidden_layers,train_acc1,'o-',label=\"Train accuracy\")\n",
    "# plt.plot(num_of_hidden_layers,test_acc1,'*-',label=\"Test accuracy\")\n",
    "# plt.text(num_of_hidden_layers[0],train_acc1[0]-0.8,str(train_acc1[0]))\n",
    "# plt.text(num_of_hidden_layers[1],train_acc1[1]-0.8,str(train_acc1[1]))\n",
    "# plt.text(num_of_hidden_layers[2]-0.2,train_acc1[2]-0.8,str(train_acc1[2]))\n",
    "# plt.text(num_of_hidden_layers[0],test_acc1[0]+0.8,str(test_acc1[0]))\n",
    "# plt.text(num_of_hidden_layers[1],test_acc1[1]+0.8,str(test_acc1[1]))\n",
    "# plt.text(num_of_hidden_layers[2]-0.2,test_acc1[2]+0.8,str(test_acc1[2]))\n",
    "# ax.legend(loc=\"lower right\")\n",
    "# plt.grid(True)\n",
    "# fig = plt.gcf()\n",
    "# ax.xaxis.set_major_locator(MaxNLocator(integer=True))\n",
    "# # fig.set_size_inches(15, 10, forward=True)"
   ]
  },
  {
   "cell_type": "code",
   "execution_count": 27,
   "metadata": {},
   "outputs": [],
   "source": [
    "# font = {'family' : 'sans-serif',\n",
    "#         'weight' : 'normal',\n",
    "#         'size'   : 15}\n",
    "\n",
    "# train_acc1 = np.array([99.27,99.56,99.09])\n",
    "# test_acc1 = np.array([92.45,95.02,93.69])\n",
    "# num_of_hidden_layers = np.array([32,64,128])\n",
    "# plt.rc('font', **font)\n",
    "# plt.figure()\n",
    "# _,ax = plt.subplots()\n",
    "# ax.set_title('Hyper paramter search CNN')\n",
    "# ax.set_xlabel(\"Number of filters\")\n",
    "# ax.set_ylabel('Accuracy')\n",
    "# plt.plot(num_of_hidden_layers,train_acc1,'o-',label=\"Train accuracy\")\n",
    "# plt.plot(num_of_hidden_layers,test_acc1,'*-',label=\"Test accuracy\")\n",
    "# plt.text(num_of_hidden_layers[0],train_acc1[0]-0.8,str(train_acc1[0]))\n",
    "# plt.text(num_of_hidden_layers[1],train_acc1[1]-0.8,str(train_acc1[1]))\n",
    "# plt.text(num_of_hidden_layers[2]-10,train_acc1[2]-0.8,str(train_acc1[2]))\n",
    "# plt.text(num_of_hidden_layers[0],test_acc1[0]+0.8,str(test_acc1[0]))\n",
    "# plt.text(num_of_hidden_layers[1],test_acc1[1]+0.8,str(test_acc1[1]))\n",
    "# plt.text(num_of_hidden_layers[2]-10,test_acc1[2]-0.8,str(test_acc1[2]))\n",
    "# ax.legend(loc=\"center right\")\n",
    "# plt.grid(True)\n",
    "# fig = plt.gcf()\n",
    "# ax.xaxis.set_major_locator(MaxNLocator(integer=True))\n",
    "# # fig.set_size_inches(15, 10, forward=True)"
   ]
  },
  {
   "cell_type": "markdown",
   "metadata": {},
   "source": [
    "stop code"
   ]
  }
 ],
 "metadata": {
  "kernelspec": {
   "display_name": "Python 3",
   "language": "python",
   "name": "python3"
  },
  "language_info": {
   "codemirror_mode": {
    "name": "ipython",
    "version": 3
   },
   "file_extension": ".py",
   "mimetype": "text/x-python",
   "name": "python",
   "nbconvert_exporter": "python",
   "pygments_lexer": "ipython3",
   "version": "3.6.2"
  }
 },
 "nbformat": 4,
 "nbformat_minor": 2
}
